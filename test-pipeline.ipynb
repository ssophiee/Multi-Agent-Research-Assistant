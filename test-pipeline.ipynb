{
 "cells": [
  {
   "cell_type": "code",
   "execution_count": null,
   "metadata": {},
   "outputs": [],
   "source": [
    "import ..."
   ]
  },
  {
   "cell_type": "code",
   "execution_count": null,
   "metadata": {},
   "outputs": [],
   "source": [
    "OPENAI_API_KEY = \"your_openai_api_key\""
   ]
  },
  {
   "cell_type": "code",
   "execution_count": null,
   "metadata": {},
   "outputs": [],
   "source": [
    "tools = [duck_tool, arxiv_tool]\n",
    "sys_msg = \"You are the search agent who finds the most relevant and high quality resources for the given question\"\n",
    "search_agent = ChatAgent(\n",
    "    system_message=sys_msg,\n",
    "    tools=tools\n",
    ")"
   ]
  },
  {
   "cell_type": "code",
   "execution_count": null,
   "metadata": {},
   "outputs": [],
   "source": [
    "model = ModelFactory.create(\"gpt-3.5-turbo\", api_key=OPENAI_API_KEY, temperature=0.2)\n",
    "summarizer = SummarizerAgent(model)\n",
    "quality_checker = QualityCheckerAgent(model)\n",
    "communication_agent = CommunicationAgent(quality_checker, search_agent, summarizer)"
   ]
  },
  {
   "cell_type": "code",
   "execution_count": null,
   "metadata": {},
   "outputs": [],
   "source": [
    "topic = \"new papers on MCP for agents, focus on papers from arxiv\"\n",
    "communication_agent.handle_query(topic)"
   ]
  }
 ],
 "metadata": {
  "kernelspec": {
   "display_name": "Python 3",
   "language": "python",
   "name": "python3"
  },
  "language_info": {
   "name": "python",
   "version": "3.11.6"
  }
 },
 "nbformat": 4,
 "nbformat_minor": 2
}
